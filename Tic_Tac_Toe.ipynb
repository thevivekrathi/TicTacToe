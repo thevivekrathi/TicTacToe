{
 "cells": [
  {
   "cell_type": "markdown",
   "metadata": {},
   "source": [
    "## TIC TAC TOE"
   ]
  },
  {
   "cell_type": "markdown",
   "metadata": {},
   "source": [
    "Lets create the famous TIC TAC TOE game using our knowledge of python\n",
    "\n",
    "Objective: To create a game where two players would choose random moves to win the game. Winner would be declared if a player fills a row, column or a diagnol with its number before the other player. "
   ]
  },
  {
   "cell_type": "code",
   "execution_count": 1,
   "metadata": {},
   "outputs": [],
   "source": [
    "import numpy as np\n",
    "import random"
   ]
  },
  {
   "cell_type": "markdown",
   "metadata": {},
   "source": [
    "### To start the game we need a board so let's create one"
   ]
  },
  {
   "cell_type": "code",
   "execution_count": 71,
   "metadata": {},
   "outputs": [],
   "source": [
    "def create_board():\n",
    "    board = np.zeros((3,3), dtype=object)\n",
    "    return board"
   ]
  },
  {
   "cell_type": "code",
   "execution_count": 72,
   "metadata": {},
   "outputs": [
    {
     "data": {
      "text/plain": [
       "array([[0, 0, 0],\n",
       "       [0, 0, 0],\n",
       "       [0, 0, 0]], dtype=object)"
      ]
     },
     "execution_count": 72,
     "metadata": {},
     "output_type": "execute_result"
    }
   ],
   "source": [
    "board = create_board()\n",
    "board"
   ]
  },
  {
   "cell_type": "markdown",
   "metadata": {},
   "source": [
    "### Our board is ready and it's time to make a move"
   ]
  },
  {
   "cell_type": "code",
   "execution_count": 73,
   "metadata": {},
   "outputs": [],
   "source": [
    "def move(board, player, position):\n",
    "    if board[position] == 0:\n",
    "        board[position] = player\n",
    "    else:\n",
    "        print('Position Occupied!!')\n",
    "        \n",
    "    return board"
   ]
  },
  {
   "cell_type": "code",
   "execution_count": 74,
   "metadata": {},
   "outputs": [
    {
     "data": {
      "text/plain": [
       "array([[1, 0, 0],\n",
       "       [0, 0, 0],\n",
       "       [0, 0, 0]], dtype=object)"
      ]
     },
     "execution_count": 74,
     "metadata": {},
     "output_type": "execute_result"
    }
   ],
   "source": [
    "move(board, 1, (0,0))"
   ]
  },
  {
   "cell_type": "code",
   "execution_count": 76,
   "metadata": {},
   "outputs": [
    {
     "name": "stdout",
     "output_type": "stream",
     "text": [
      "Position Occupied!!\n"
     ]
    },
    {
     "data": {
      "text/plain": [
       "array([[1, 0, 0],\n",
       "       [0, 0, 0],\n",
       "       [0, 0, 1]], dtype=object)"
      ]
     },
     "execution_count": 76,
     "metadata": {},
     "output_type": "execute_result"
    }
   ],
   "source": [
    "move(board, 1, (0,0))"
   ]
  },
  {
   "cell_type": "markdown",
   "metadata": {},
   "source": [
    "### After those moves, I would want to see the positions available"
   ]
  },
  {
   "cell_type": "code",
   "execution_count": 7,
   "metadata": {},
   "outputs": [
    {
     "data": {
      "text/plain": [
       "[(0, 1), (0, 2), (1, 0), (1, 1), (1, 2), (2, 0), (2, 1)]"
      ]
     },
     "execution_count": 7,
     "metadata": {},
     "output_type": "execute_result"
    }
   ],
   "source": [
    "list(zip(*np.where(board==0)))"
   ]
  },
  {
   "cell_type": "markdown",
   "metadata": {},
   "source": [
    "### We'll create a funtion to retrieve these positions that can be used later"
   ]
  },
  {
   "cell_type": "code",
   "execution_count": 8,
   "metadata": {},
   "outputs": [],
   "source": [
    "def possible_positions(board):\n",
    "    temp = list(zip(*np.where(board == 0)))\n",
    "    #print('Number of possible positions/moves available: ', len(temp))\n",
    "    return temp"
   ]
  },
  {
   "cell_type": "code",
   "execution_count": 9,
   "metadata": {},
   "outputs": [
    {
     "data": {
      "text/plain": [
       "[(0, 1), (0, 2), (1, 0), (1, 1), (1, 2), (2, 0), (2, 1)]"
      ]
     },
     "execution_count": 9,
     "metadata": {},
     "output_type": "execute_result"
    }
   ],
   "source": [
    "possible_positions(board)"
   ]
  },
  {
   "cell_type": "markdown",
   "metadata": {},
   "source": [
    "### Hmm.. I see the available positions but I don't want to play manually anymore, I want the game to make random moves for me"
   ]
  },
  {
   "cell_type": "code",
   "execution_count": 10,
   "metadata": {},
   "outputs": [],
   "source": [
    "def random_move(board, player):\n",
    "    move(board, player, random.choice(possible_positions(board)))\n",
    "    return board"
   ]
  },
  {
   "cell_type": "code",
   "execution_count": 11,
   "metadata": {},
   "outputs": [
    {
     "data": {
      "text/plain": [
       "array([[1, 0, 0],\n",
       "       [0, 0, 0],\n",
       "       [0, 1, 1]])"
      ]
     },
     "execution_count": 11,
     "metadata": {},
     "output_type": "execute_result"
    }
   ],
   "source": [
    "random_move(board, 1)"
   ]
  },
  {
   "cell_type": "markdown",
   "metadata": {},
   "source": [
    "### But how would we know if someone is winning or not"
   ]
  },
  {
   "cell_type": "code",
   "execution_count": 12,
   "metadata": {},
   "outputs": [],
   "source": [
    "def row_win(board, player):\n",
    "    if np.any(np.all(board == player, axis = 0)):\n",
    "        return True\n",
    "    else:\n",
    "        return False"
   ]
  },
  {
   "cell_type": "code",
   "execution_count": 14,
   "metadata": {},
   "outputs": [],
   "source": [
    "def col_win(board, player):\n",
    "    if np.any(np.all(board == player, axis = 1)):\n",
    "        return True\n",
    "    else:\n",
    "        return False"
   ]
  },
  {
   "cell_type": "code",
   "execution_count": 15,
   "metadata": {},
   "outputs": [],
   "source": [
    "def diag_win(board, player):\n",
    "    if np.all(np.diag(board == player)) or np.all(np.diag(np.fliplr(board == player))):\n",
    "        return True\n",
    "    else:\n",
    "        return False"
   ]
  },
  {
   "cell_type": "markdown",
   "metadata": {},
   "source": [
    "### Since we have aready defined our evaluation metrics, lets find out  the winner"
   ]
  },
  {
   "cell_type": "code",
   "execution_count": 88,
   "metadata": {},
   "outputs": [],
   "source": [
    "players = [1,2]\n",
    "\n",
    "def winner_check(board, players):\n",
    "    winner = 0\n",
    "    for player in players:\n",
    "        if row_win(board, player) or col_win(board, player) or diag_win(board, player):\n",
    "            winner = player\n",
    "    if np.all(board != 0) and winner == 0:\n",
    "        winner = -1\n",
    "    return winner"
   ]
  },
  {
   "cell_type": "code",
   "execution_count": 95,
   "metadata": {},
   "outputs": [
    {
     "data": {
      "text/plain": [
       "1"
      ]
     },
     "execution_count": 95,
     "metadata": {},
     "output_type": "execute_result"
    }
   ],
   "source": [
    "winner_check(board, players)"
   ]
  },
  {
   "cell_type": "code",
   "execution_count": 90,
   "metadata": {},
   "outputs": [],
   "source": [
    "board = create_board()"
   ]
  },
  {
   "cell_type": "code",
   "execution_count": 94,
   "metadata": {},
   "outputs": [
    {
     "data": {
      "text/plain": [
       "array([[2, 2, 1],\n",
       "       [2, 1, 1],\n",
       "       [1, 2, 0]], dtype=object)"
      ]
     },
     "execution_count": 94,
     "metadata": {},
     "output_type": "execute_result"
    }
   ],
   "source": [
    "for player in players:\n",
    "    random_move(board, player)\n",
    "board"
   ]
  },
  {
   "cell_type": "markdown",
   "metadata": {},
   "source": [
    "### Well, it works and we can say that the steps taken so far will tell us if someone wins\n",
    "### So, let's create a gameplay that shows us the baord after every move and also declares the winner"
   ]
  },
  {
   "cell_type": "code",
   "execution_count": 96,
   "metadata": {},
   "outputs": [],
   "source": [
    "players = [1,2]\n",
    "def random_gameplay(players):\n",
    "    board = create_board()\n",
    "    winner = 0\n",
    "    move = 1\n",
    "    while(winner==0):\n",
    "        for player in players:\n",
    "            random_move(board, player)\n",
    "            print('Board after move ', move, '\\n', board)\n",
    "            winner = winner_check(board, players)\n",
    "            move += 1\n",
    "            \n",
    "            if winner != 0:\n",
    "                break\n",
    "    #return winner\n",
    "\n",
    "    if winner == -1:\n",
    "        print('The game is a tie')\n",
    "    else:\n",
    "        print('Winner is ', winner)"
   ]
  },
  {
   "cell_type": "code",
   "execution_count": 98,
   "metadata": {},
   "outputs": [
    {
     "name": "stdout",
     "output_type": "stream",
     "text": [
      "Board after move  1 \n",
      " [[0 0 0]\n",
      " [0 0 0]\n",
      " [0 0 1]]\n",
      "Board after move  2 \n",
      " [[2 0 0]\n",
      " [0 0 0]\n",
      " [0 0 1]]\n",
      "Board after move  3 \n",
      " [[2 0 0]\n",
      " [0 1 0]\n",
      " [0 0 1]]\n",
      "Board after move  4 \n",
      " [[2 0 0]\n",
      " [0 1 0]\n",
      " [0 2 1]]\n",
      "Board after move  5 \n",
      " [[2 0 1]\n",
      " [0 1 0]\n",
      " [0 2 1]]\n",
      "Board after move  6 \n",
      " [[2 0 1]\n",
      " [0 1 0]\n",
      " [2 2 1]]\n",
      "Board after move  7 \n",
      " [[2 0 1]\n",
      " [0 1 1]\n",
      " [2 2 1]]\n",
      "Winner is  1\n"
     ]
    }
   ],
   "source": [
    "random_gameplay(players)"
   ]
  },
  {
   "cell_type": "markdown",
   "metadata": {},
   "source": [
    "### After running few simulations, I noticed something\n",
    "### Even though our moves are random, the game always starts with Player 1\n",
    "### So, lets evaluate if that has something impacts the winning"
   ]
  },
  {
   "cell_type": "code",
   "execution_count": 118,
   "metadata": {},
   "outputs": [],
   "source": [
    "def random_gameplay(players):\n",
    "    \"\"\"\n",
    "    This is a random gameplay\n",
    "    i.e. all the moves are randomized\n",
    "    This gameplay will always start with Player 1\n",
    "    \"\"\"\n",
    "    board = create_board()\n",
    "    winner = 0\n",
    "    move = 1\n",
    "    while(winner==0):\n",
    "        for player in players:\n",
    "            random_move(board, player)\n",
    "            #print('Board after move ', move, '\\n', board)\n",
    "            winner = winner_check(board, players)\n",
    "            move += 1\n",
    "            \n",
    "            if winner != 0:\n",
    "                break\n",
    "    return winner"
   ]
  },
  {
   "cell_type": "code",
   "execution_count": 123,
   "metadata": {},
   "outputs": [],
   "source": [
    "def wins_evaluate():\n",
    "    wins = []\n",
    "    for i in range(1000):\n",
    "        winner = random_gameplay(players)\n",
    "        wins.append(winner)\n",
    "    print('Number of times', players[0],' won: ', wins.count(players[0]))\n",
    "    print('Number of times', players[1],' won: ', wins.count(players[1]))\n",
    "    print('Number of ties: ', wins.count(-1))"
   ]
  },
  {
   "cell_type": "code",
   "execution_count": 124,
   "metadata": {},
   "outputs": [
    {
     "name": "stdout",
     "output_type": "stream",
     "text": [
      "Number of times Tarzan  won:  593\n",
      "Number of times Jane  won:  284\n",
      "Number of ties:  123\n"
     ]
    }
   ],
   "source": [
    "wins_evaluate()"
   ]
  },
  {
   "cell_type": "markdown",
   "metadata": {},
   "source": [
    "### As suspected, the player with first move has an advantage\n",
    "### So, lets fix that"
   ]
  },
  {
   "cell_type": "code",
   "execution_count": 125,
   "metadata": {},
   "outputs": [],
   "source": [
    "def planned_gameplay(players):\n",
    "    \"\"\"\n",
    "    This is a planned gameplay where the first move is randomized\n",
    "    i.e. before every game, the player who will make the first move \n",
    "    will be randomly selected\n",
    "    \"\"\"\n",
    "    board = create_board()\n",
    "    winner = 0\n",
    "    move = 1\n",
    "    random_player = random.choice(players)\n",
    "    if random_player == players[0]:\n",
    "        random_move(board, random_player)\n",
    "        while(winner==0):\n",
    "            for player in (players[1],players[0]):\n",
    "                random_move(board, player)\n",
    "                #print('Board after move ', move, '\\n', board)\n",
    "                winner = winner_check(board, players)\n",
    "                move += 1\n",
    "\n",
    "                if winner != 0:\n",
    "                    break\n",
    "        return winner\n",
    "    else:\n",
    "        random_move(board, random_player)\n",
    "        while(winner==0):\n",
    "            for player in (players[0],players[1]):\n",
    "                random_move(board, player)\n",
    "                #print('Board after move ', move, '\\n', board)\n",
    "                winner = winner_check(board, players)\n",
    "                move += 1\n",
    "\n",
    "                if winner != 0:\n",
    "                    break\n",
    "        return winner"
   ]
  },
  {
   "cell_type": "code",
   "execution_count": 126,
   "metadata": {},
   "outputs": [
    {
     "data": {
      "text/plain": [
       "'Jane'"
      ]
     },
     "execution_count": 126,
     "metadata": {},
     "output_type": "execute_result"
    }
   ],
   "source": [
    "planned_gameplay(players)"
   ]
  },
  {
   "cell_type": "code",
   "execution_count": 129,
   "metadata": {},
   "outputs": [],
   "source": [
    "def wins_evaluate():\n",
    "    random_wins = []\n",
    "    print('Random Wins Evaluation')\n",
    "    for i in range(100):\n",
    "        winner = random_gameplay(players)\n",
    "        random_wins.append(winner)\n",
    "    print('Number of times', players[0],' won: ', random_wins.count(players[0]))\n",
    "    print('Number of times', players[1],' won: ', random_wins.count(players[1]))\n",
    "    print('Number of ties: ', random_wins.count(-1))\n",
    "    \n",
    "    planned_wins = []\n",
    "    print('\\nPlanned Wins Evaluation')\n",
    "    for i in range(100):\n",
    "        winner = planned_gameplay(players)\n",
    "        planned_wins.append(winner)\n",
    "    print('Number of times', players[0],' won: ', planned_wins.count(players[0]))\n",
    "    print('Number of times', players[1],' won: ', planned_wins.count(players[1]))\n",
    "    print('Number of ties: ', planned_wins.count(-1))\n",
    "    "
   ]
  },
  {
   "cell_type": "code",
   "execution_count": 135,
   "metadata": {},
   "outputs": [
    {
     "name": "stdout",
     "output_type": "stream",
     "text": [
      "Random Wins Evaluation\n",
      "Number of times Tarzan  won:  60\n",
      "Number of times Jane  won:  31\n",
      "Number of ties:  9\n",
      "\n",
      "Planned Wins Evaluation\n",
      "Number of times Tarzan  won:  43\n",
      "Number of times Jane  won:  48\n",
      "Number of ties:  9\n"
     ]
    }
   ],
   "source": [
    "wins_evaluate()"
   ]
  },
  {
   "cell_type": "markdown",
   "metadata": {},
   "source": [
    "### Great!!\n",
    "### I think we have built a good game\n",
    "### It's time to sum it all up\n",
    "### lets create a final gameplay where we ask the user to enter the players names and ask them if they want to randomize the first move or if they want to decide with a toss"
   ]
  },
  {
   "cell_type": "code",
   "execution_count": 148,
   "metadata": {},
   "outputs": [],
   "source": [
    "def gameplay():\n",
    "    player_1 = input('Enter first player name: ')\n",
    "    player_2 = input('Enter second player name: ')\n",
    "    choice = input('Who will play the first move? \\n(Enter \"r\" to randomize): ')\n",
    "    \n",
    "    players = [player_1, player_2]\n",
    "    \n",
    "    def temp(players, choice):\n",
    "        if choice == players[0]:\n",
    "            board = create_board()\n",
    "            winner = 0\n",
    "            move = 1\n",
    "            random_move(board, players[0])\n",
    "            print('\\nBoard after move ', move, '\\n', board)\n",
    "            move += 1\n",
    "            while(winner==0):\n",
    "                for player in (players[1],players[0]):\n",
    "                    random_move(board, player)\n",
    "                    print('\\nBoard after move ', move, '\\n', board)\n",
    "                    winner = winner_check(board, players)\n",
    "                    move += 1\n",
    "\n",
    "                    if winner != 0:\n",
    "                        break\n",
    "            return winner\n",
    "        \n",
    "        elif choice == players[1]:\n",
    "            board = create_board()\n",
    "            winner = 0\n",
    "            move = 1\n",
    "            random_move(board, players[1])\n",
    "            print('\\nBoard after move ', move, '\\n', board)\n",
    "            move += 1\n",
    "            while(winner==0):\n",
    "                for player in (players[0],players[1]):\n",
    "                    random_move(board, player)\n",
    "                    print('\\nBoard after move ', move, '\\n', board)\n",
    "                    winner = winner_check(board, players)\n",
    "                    move += 1\n",
    "\n",
    "                    if winner != 0:\n",
    "                        break\n",
    "            return winner\n",
    "        else:\n",
    "            board = create_board()\n",
    "            winner = 0\n",
    "            move = 1\n",
    "            random_player = random.choice(players)\n",
    "            if random_player == players[0]:\n",
    "                random_move(board, random_player)\n",
    "                while(winner==0):\n",
    "                    for player in (players[1],players[0]):\n",
    "                        random_move(board, player)\n",
    "                        print('\\nBoard after move ', move, '\\n', board)\n",
    "                        winner = winner_check(board, players)\n",
    "                        move += 1\n",
    "\n",
    "                        if winner != 0:\n",
    "                            break\n",
    "                return winner\n",
    "            else:\n",
    "                random_move(board, random_player)\n",
    "                while(winner==0):\n",
    "                    for player in (players[0],players[1]):\n",
    "                        random_move(board, player)\n",
    "                        print('\\nBoard after move ', move, '\\n', board)\n",
    "                        winner = winner_check(board, players)\n",
    "                        move += 1\n",
    "\n",
    "                        if winner != 0:\n",
    "                            break\n",
    "                return winner\n",
    "    \n",
    "    winner = temp(players, choice)\n",
    "    if winner == -1:\n",
    "        print('\\nThe game is a tie')\n",
    "    else:\n",
    "        print('\\nWinner is ', winner)\n"
   ]
  },
  {
   "cell_type": "code",
   "execution_count": 149,
   "metadata": {},
   "outputs": [
    {
     "name": "stdout",
     "output_type": "stream",
     "text": [
      "Enter first player name: T\n",
      "Enter second player name: J\n",
      "Who will play the first move? \n",
      "(Enter \"r\" to randomize): T\n",
      "\n",
      "Board after move  1 \n",
      " [[0 0 0]\n",
      " [0 0 'T']\n",
      " [0 0 0]]\n",
      "\n",
      "Board after move  2 \n",
      " [[0 0 'J']\n",
      " [0 0 'T']\n",
      " [0 0 0]]\n",
      "\n",
      "Board after move  3 \n",
      " [[0 0 'J']\n",
      " [0 0 'T']\n",
      " [0 'T' 0]]\n",
      "\n",
      "Board after move  4 \n",
      " [[0 0 'J']\n",
      " [0 0 'T']\n",
      " [0 'T' 'J']]\n",
      "\n",
      "Board after move  5 \n",
      " [[0 0 'J']\n",
      " ['T' 0 'T']\n",
      " [0 'T' 'J']]\n",
      "\n",
      "Board after move  6 \n",
      " [[0 0 'J']\n",
      " ['T' 0 'T']\n",
      " ['J' 'T' 'J']]\n",
      "\n",
      "Board after move  7 \n",
      " [['T' 0 'J']\n",
      " ['T' 0 'T']\n",
      " ['J' 'T' 'J']]\n",
      "\n",
      "Board after move  8 \n",
      " [['T' 0 'J']\n",
      " ['T' 'J' 'T']\n",
      " ['J' 'T' 'J']]\n",
      "\n",
      "Winner is  J\n"
     ]
    }
   ],
   "source": [
    "gameplay()"
   ]
  },
  {
   "cell_type": "code",
   "execution_count": 152,
   "metadata": {},
   "outputs": [
    {
     "data": {
      "text/plain": [
       "'C:\\\\Users\\\\vivek'"
      ]
     },
     "execution_count": 152,
     "metadata": {},
     "output_type": "execute_result"
    }
   ],
   "source": [
    "import os\n",
    "os.getcwd()"
   ]
  },
  {
   "cell_type": "code",
   "execution_count": null,
   "metadata": {},
   "outputs": [],
   "source": []
  }
 ],
 "metadata": {
  "kernelspec": {
   "display_name": "Python 3",
   "language": "python",
   "name": "python3"
  },
  "language_info": {
   "codemirror_mode": {
    "name": "ipython",
    "version": 3
   },
   "file_extension": ".py",
   "mimetype": "text/x-python",
   "name": "python",
   "nbconvert_exporter": "python",
   "pygments_lexer": "ipython3",
   "version": "3.7.3"
  }
 },
 "nbformat": 4,
 "nbformat_minor": 4
}
